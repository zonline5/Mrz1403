{
  "nbformat": 4,
  "nbformat_minor": 0,
  "metadata": {
    "colab": {
      "provenance": [],
      "gpuType": "T4",
      "collapsed_sections": [
        "dggJ6OF0Xjsk"
      ],
      "include_colab_link": true
    },
    "kernelspec": {
      "name": "python3",
      "display_name": "Python 3"
    },
    "language_info": {
      "name": "python"
    },
    "accelerator": "GPU"
  },
  "cells": [
    {
      "cell_type": "markdown",
      "metadata": {
        "id": "view-in-github",
        "colab_type": "text"
      },
      "source": [
        "<a href=\"https://colab.research.google.com/github/zonline5/Mrz1403/blob/main/PDF_Translator_Februaru_16_2025.ipynb\" target=\"_parent\"><img src=\"https://colab.research.google.com/assets/colab-badge.svg\" alt=\"Open In Colab\"/></a>"
      ]
    },
    {
      "cell_type": "markdown",
      "source": [
        "#Install"
      ],
      "metadata": {
        "id": "dggJ6OF0Xjsk"
      }
    },
    {
      "cell_type": "code",
      "source": [
        "#@title download font\n",
        "!wget https://github.com/rastikerdar/vazir-font/releases/download/v30.1.0/Vazir-font-v30.1.0.zip\n",
        "!unzip Vazir-font-v30.1.0.zip -d /usr/share/fonts/truetype/"
      ],
      "metadata": {
        "cellView": "form",
        "id": "GVOpj4wMVfWO"
      },
      "execution_count": null,
      "outputs": []
    },
    {
      "cell_type": "code",
      "source": [
        "#@title نصب کتابخانه‌های مورد نیاز\n",
        "!pip install PyPDF2\n",
        "!pip install google-generativeai\n",
        "!pip install tqdm\n",
        "!pip install python-docx\n",
        "!apt-get install libreoffice -y\n"
      ],
      "metadata": {
        "id": "sMUHXCmrAxZv",
        "cellView": "form"
      },
      "execution_count": null,
      "outputs": []
    },
    {
      "cell_type": "markdown",
      "source": [
        "**<font color='blue'> `======================================` </font>**"
      ],
      "metadata": {
        "id": "JNsVj6EbXDed"
      }
    },
    {
      "cell_type": "code",
      "source": [],
      "metadata": {
        "id": "vFB_hj_CrEKk"
      },
      "execution_count": null,
      "outputs": []
    },
    {
      "cell_type": "markdown",
      "source": [
        "# Settings"
      ],
      "metadata": {
        "id": "0OQzb1u9X23_"
      }
    },
    {
      "cell_type": "code",
      "source": [
        "\n",
        "#@title فراخوانی کلید دسترسی\n",
        "import google.generativeai as genai\n",
        "\n",
        "GOOGLE_API_KEY = \"\" #@param {type:\"string\"}\n",
        "genai.configure(api_key=GOOGLE_API_KEY)"
      ],
      "metadata": {
        "cellView": "form",
        "id": "3you3uNiA2r9"
      },
      "execution_count": null,
      "outputs": []
    },
    {
      "cell_type": "code",
      "source": [
        "\n",
        "#@title آپلود فایل PDF\n",
        "from google.colab import files\n",
        "import PyPDF2\n",
        "import io\n",
        "\n",
        "# آپلود فایل\n",
        "uploaded = files.upload()\n",
        "\n",
        "if not uploaded:\n",
        "    raise ValueError(\"هیچ فایلی آپلود نشد. لطفاً یک فایل PDF آپلود کنید.\")\n",
        "\n",
        "filename = list(uploaded.keys())[0]\n",
        "\n",
        "# بررسی فرمت فایل\n",
        "if not filename.lower().endswith('.pdf'):\n",
        "    raise ValueError(\"فرمت فایل اشتباه است. لطفاً یک فایل PDF آپلود کنید.\")\n",
        "\n",
        "# خواندن فایل PDF\n",
        "pdf_reader = PyPDF2.PdfReader(io.BytesIO(uploaded[filename]))\n",
        "num_pages = len(pdf_reader.pages)\n",
        "print(f\"تعداد کل صفحات: {num_pages}\")"
      ],
      "metadata": {
        "cellView": "form",
        "id": "YNyB0yQXA-V9"
      },
      "execution_count": null,
      "outputs": []
    },
    {
      "cell_type": "code",
      "source": [
        "\n",
        "#@title تنظیم محدوده صفحات\n",
        "start_page = 1  #@param {type:\"slider\", min:1, max:1000, step:1}\n",
        "end_page = 15  #@param {type:\"slider\", min:1, max:1000, step:1}\n",
        "\n",
        "# بررسی محدوده صفحات\n",
        "if start_page < 1 or end_page > num_pages:\n",
        "    raise ValueError(f\"شماره صفحات باید بین 1 و {num_pages} باشد.\")\n",
        "\n",
        "print(f\"ترجمه از صفحه {start_page} تا صفحه {end_page} انجام خواهد شد\")"
      ],
      "metadata": {
        "cellView": "form",
        "id": "trogQ_oof24H"
      },
      "execution_count": null,
      "outputs": []
    },
    {
      "cell_type": "markdown",
      "source": [
        "#Translate"
      ],
      "metadata": {
        "id": "v6A_2TYGYIDn"
      }
    },
    {
      "cell_type": "code",
      "source": [
        "#@title ترجمه به فارسی\n",
        "#@markdown ### `در صورت مشاهده خطا از سمت گوگل جمنای ، مقدار نوار اسلایدر زیر را با عدد بالاتری تست کنید یا توکن را تغییر دهید`\n",
        "sleep_time = 3 #@param {type:\"slider\", min:2, max:5, step:1}\n",
        "\n",
        "#@markdown ### - - - - - - - - - - - - - - - - - - - - - - -\n",
        "#@markdown ### (در حالت معمولی نیازی به فعال کردن ندارد) استفاده از پرامپت سفارشی\n",
        "USE_CUSTOM_PROMPT = False #@param {type:\"boolean\"}\n",
        "CUSTOM_PROMPT = \"محل قرار گرفتن پرامپت در صورت فعال بودن\" #@param {type:\"string\"}\n",
        "\n",
        "#@markdown ### - - - - - - - - - - - - - - - - - - - - - - -\n",
        "\n",
        "from tqdm.notebook import tqdm\n",
        "import time\n",
        "from tenacity import retry, stop_after_attempt, wait_exponential\n",
        "from docx import Document\n",
        "from docx.enum.text import WD_PARAGRAPH_ALIGNMENT\n",
        "import re\n",
        "\n",
        "def clean_text(text):\n",
        "    text = text[:15000]\n",
        "    text = ''.join(char for char in text if char == '\\n' or char == '\\t' or (ord(char) >= 32))\n",
        "    text = text.replace('\\x00', '')\n",
        "    return text\n",
        "\n",
        "@retry(stop=stop_after_attempt(5), wait=wait_exponential(multiplier=2, min=4, max=20))\n",
        "def translate_page_with_retry(text):\n",
        "    model = genai.GenerativeModel('gemini-2.0-flash-exp')\n",
        "\n",
        "    if USE_CUSTOM_PROMPT and CUSTOM_PROMPT.strip():\n",
        "        prompt = f\"{CUSTOM_PROMPT}\\n\\nمتن برای ترجمه:\\n{text}\"\n",
        "    else:\n",
        "        prompt = f\"\"\"متن زیر را به فارسی عامیانه و روان ترجمه کن. نکات مهم:\n",
        "\n",
        "1. فقط ترجمه خالص و عامیانه، بدون هیچ توضیح اضافه\n",
        "2. به شدت مهمه که تا معنای واقعی جملات رو درک نکنی حق ترجمه نداری\n",
        "3. استفاده از زبان محاوره‌ای و روزمره\n",
        "4. ترجمه نباید بی ربط باشه و سعی کن تا جایی که ممکنه حرفه ای عمل کنی\n",
        "\n",
        "متن برای ترجمه:\n",
        "{text}\"\"\"\n",
        "\n",
        "    time.sleep(sleep_time + 2)\n",
        "    response = model.generate_content(prompt)\n",
        "    return clean_text(response.text)\n",
        "\n",
        "\n",
        "# ایجاد سند Word جدید\n",
        "doc = Document()\n",
        "\n",
        "# شروع ترجمه صفحات\n",
        "with tqdm(total=end_page-start_page+1, desc=\"ترجمه صفحات\") as pbar:\n",
        "    for page_num in range(start_page-1, end_page):\n",
        "        try:\n",
        "            page_text = pdf_reader.pages[page_num].extract_text().strip()\n",
        "\n",
        "            # بررسی خالی بودن صفحه\n",
        "            if len(page_text) < 50:\n",
        "                print(f\"\\nصفحه {page_num+1} خالی یا غیر قابل پردازش است - رد شد\")\n",
        "                pbar.update(1)\n",
        "                continue\n",
        "\n",
        "            translated_page = translate_page_with_retry(clean_text(page_text))\n",
        "\n",
        "            # اضافه کردن شماره صفحه\n",
        "            heading = doc.add_paragraph(f\"=== صفحه {page_num+1} ===\")\n",
        "            heading.alignment = WD_PARAGRAPH_ALIGNMENT.RIGHT\n",
        "\n",
        "            # اضافه کردن متن ترجمه شده\n",
        "            paragraph = doc.add_paragraph(translated_page)\n",
        "            paragraph.alignment = WD_PARAGRAPH_ALIGNMENT.RIGHT\n",
        "\n",
        "            pbar.update(1)\n",
        "            time.sleep(2)  # استراحت بین صفحات\n",
        "\n",
        "        except Exception as e:\n",
        "            print(f\"\\nخطا در صفحه {page_num+1}: {str(e)}\")\n",
        "            time.sleep(5)  # استراحت بیشتر در صورت خطا\n",
        "            continue\n",
        "\n",
        "# ذخیره فایل\n",
        "doc.save(f\"{filename}_translated.docx\")\n",
        "print(\"\\nترجمه با موفقیت به پایان رسید!\")"
      ],
      "metadata": {
        "cellView": "form",
        "id": "tng2cFOKQdAk"
      },
      "execution_count": null,
      "outputs": []
    },
    {
      "cell_type": "markdown",
      "source": [
        "اگر هنگام ترجمه ، اخطار زیر نمایش داده شد ولی پروسه همچنان در حال پیشروی بود اخطار را نادیده بگیرید\n",
        "\n",
        "WARNING:tornado.access ....\n",
        "\n",
        "و اگر غیر از این ، خطایی مشاهده کردید بهمون اطلاع بدین"
      ],
      "metadata": {
        "id": "fJcpYQQUYAu4"
      }
    },
    {
      "cell_type": "markdown",
      "source": [
        "**<font color='blue'> `-----------------------------------` </font>**"
      ],
      "metadata": {
        "id": "pxNr9CdjWbkG"
      }
    },
    {
      "cell_type": "code",
      "source": [
        "#@title Docx دانلود با فرمت\n",
        "from google.colab import files\n",
        "files.download(f\"{filename}_translated.docx\")"
      ],
      "metadata": {
        "cellView": "form",
        "id": "p5L8t-iC_wc5"
      },
      "execution_count": null,
      "outputs": []
    },
    {
      "cell_type": "code",
      "source": [
        "\n",
        "#@title PDF دانلود با فرمت\n",
        "!soffice --headless --convert-to pdf \"{filename}_translated.docx\"\n",
        "from google.colab import files\n",
        "files.download(f\"{filename}_translated.pdf\")"
      ],
      "metadata": {
        "cellView": "form",
        "id": "VYGsO902VtZQ"
      },
      "execution_count": null,
      "outputs": []
    }
  ]
}